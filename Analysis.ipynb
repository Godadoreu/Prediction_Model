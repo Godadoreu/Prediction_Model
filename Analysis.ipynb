{
 "cells": [
  {
   "cell_type": "markdown",
   "metadata": {},
   "source": [
    "The work done by <b> Bakhtiyar Rakhimzhanov </b>"
   ]
  },
  {
   "cell_type": "markdown",
   "metadata": {},
   "source": [
    "Content:\n",
    "1. Importing libraries\n",
    "2. Data description\n",
    "3. Web scraping\n",
    "4. Data preparation: cleaning\n",
    "5. Analysis\n",
    "6. Data preprocessing\n",
    "7. Prediction models"
   ]
  },
  {
   "cell_type": "markdown",
   "metadata": {},
   "source": [
    "I will scrap the apartments for rent in Kostanay, as I live there now. I'm going to scrap the city, owner name,house information, house type, area, price, phone and the links to the apartments. The packages for use: selenium, bs4."
   ]
  },
  {
   "cell_type": "code",
   "execution_count": 1,
   "metadata": {},
   "outputs": [],
   "source": [
    "#!pip install selenium"
   ]
  },
  {
   "cell_type": "markdown",
   "metadata": {},
   "source": [
    "### Importing libraries"
   ]
  },
  {
   "cell_type": "code",
   "execution_count": 2,
   "metadata": {},
   "outputs": [],
   "source": [
    "# Importing libraries\n",
    "from selenium import webdriver\n",
    "import time\n",
    "from time import sleep\n",
    "from bs4 import BeautifulSoup"
   ]
  },
  {
   "cell_type": "markdown",
   "metadata": {},
   "source": [
    "### Data description\n",
    "1. City : it is the city where apartment is located\n",
    "2. Price : the money that you need to spend in order to rent the house \n",
    "3. Room_Num : the room number in the apartment\n",
    "4. Floor_Num : the floor at which the apartment is stayed\n",
    "5. Area : the area of the apartment\n",
    "6. Description : general information about the apartments for rent\n",
    "7. Author : the person who posted the apartment\n",
    "8. Link : the link to the apartment"
   ]
  },
  {
   "cell_type": "markdown",
   "metadata": {},
   "source": [
    "### Web scraping"
   ]
  },
  {
   "cell_type": "code",
   "execution_count": 3,
   "metadata": {},
   "outputs": [],
   "source": [
    "# Using selenium to scrap the links\n",
    "driver = webdriver.Chrome(executable_path = r'C:\\Users\\Admin\\Desktop\\5 trimester\\data_mining\\HW5\\chromedriver.exe')\n",
    "url = []\n",
    "# Getting only first five pages\n",
    "for x in range(1,6):\n",
    "    urls = 'https://krisha.kz/arenda/kvartiry/kostanaj/?das[rent.period]=2&'+ 'page='+str(x)\n",
    "    driver.get(urls)\n",
    "    # Scraping all links in one page\n",
    "    links = driver.find_elements_by_xpath(\"//a[contains(@class,'a-card__title ')]\")\n",
    "    for x in links:\n",
    "        # getting the links in href format\n",
    "        linkers = x.get_attribute('href')\n",
    "        #append them in list\n",
    "        url.append(linkers)"
   ]
  },
  {
   "cell_type": "code",
   "execution_count": 4,
   "metadata": {},
   "outputs": [],
   "source": [
    "# Lists that will be used for saving data\n",
    "city = []\n",
    "owner = []\n",
    "house_general = []\n",
    "area = []\n",
    "price = []\n",
    "phone = []\n",
    "urls = []"
   ]
  },
  {
   "cell_type": "code",
   "execution_count": 5,
   "metadata": {},
   "outputs": [],
   "source": [
    "import requests\n",
    "for x in url:\n",
    "    r = requests.get(x)\n",
    "    soup = BeautifulSoup(r.content, 'html.parser')\n",
    "    # Getting owner\n",
    "    get_name = soup.find('div', {'class' : 'owners__name'}).text\n",
    "    owner.append(get_name)\n",
    "    # Getting the description\n",
    "    get_info = soup.find(\"h1\").text.strip()\n",
    "    house_general.append(get_info)\n",
    "    # Getting the phone number\n",
    "    get_num = soup.find('span', {'class' : 'phone'}).text\n",
    "    get_nums = soup.find('span', {'class' : 'show-phones'})['data-id']\n",
    "    get_phone = get_num + get_nums\n",
    "    phone.append(get_phone)\n",
    "    # Getting the price \n",
    "    get_price = soup.find('div', {'class' : 'offer__price'}).text.strip()\n",
    "    get_price = get_price.split('\\xa0')\n",
    "    get_price = get_price[0]+get_price[1]\n",
    "    price.append(int(get_price))\n",
    "    # Getting the links\n",
    "    get_link = x\n",
    "    urls.append(get_link)\n",
    "    # Getting the city name\n",
    "    city_name = soup.find('div', {'class' : 'offer__location offer__advert-short-info'}).text.strip()\n",
    "    city_name = city_name.split(',')[0]\n",
    "    city.append(city_name)\n",
    "    # Getting the area info\n",
    "    area_info = get_info.split(',')[1].strip()\n",
    "    areas = area_info.split(' ')[0]\n",
    "    area.append(areas)"
   ]
  },
  {
   "cell_type": "code",
   "execution_count": 6,
   "metadata": {},
   "outputs": [
    {
     "name": "stdout",
     "output_type": "stream",
     "text": [
      "100\n",
      "100\n",
      "100\n",
      "100\n",
      "100\n",
      "100\n",
      "100\n"
     ]
    }
   ],
   "source": [
    "# Confirming the length of the lists\n",
    "print(len(area))\n",
    "print(len(city))\n",
    "print(len(price))\n",
    "print(len(phone))\n",
    "print(len(house_general))\n",
    "print(len(owner))\n",
    "print(len(urls))\n"
   ]
  },
  {
   "cell_type": "code",
   "execution_count": 7,
   "metadata": {},
   "outputs": [
    {
     "data": {
      "text/html": [
       "<div>\n",
       "<style scoped>\n",
       "    .dataframe tbody tr th:only-of-type {\n",
       "        vertical-align: middle;\n",
       "    }\n",
       "\n",
       "    .dataframe tbody tr th {\n",
       "        vertical-align: top;\n",
       "    }\n",
       "\n",
       "    .dataframe thead th {\n",
       "        text-align: right;\n",
       "    }\n",
       "</style>\n",
       "<table border=\"1\" class=\"dataframe\">\n",
       "  <thead>\n",
       "    <tr style=\"text-align: right;\">\n",
       "      <th></th>\n",
       "      <th>City</th>\n",
       "      <th>Description</th>\n",
       "      <th>Price</th>\n",
       "      <th>Area</th>\n",
       "      <th>Author</th>\n",
       "      <th>Phone</th>\n",
       "      <th>Link</th>\n",
       "    </tr>\n",
       "  </thead>\n",
       "  <tbody>\n",
       "    <tr>\n",
       "      <th>0</th>\n",
       "      <td>Костанай</td>\n",
       "      <td>4-комнатная квартира, 72 м², 2/6 этаж помесячн...</td>\n",
       "      <td>100000</td>\n",
       "      <td>72.0</td>\n",
       "      <td>Хозяин недвижимости</td>\n",
       "      <td>+7 708 665809750</td>\n",
       "      <td>https://krisha.kz/a/show/665809750</td>\n",
       "    </tr>\n",
       "    <tr>\n",
       "      <th>1</th>\n",
       "      <td>Костанай</td>\n",
       "      <td>3-комнатная квартира, 72 м², 7/9 этаж помесячн...</td>\n",
       "      <td>115000</td>\n",
       "      <td>72.0</td>\n",
       "      <td>Хозяин недвижимости</td>\n",
       "      <td>+7 777 661468548</td>\n",
       "      <td>https://krisha.kz/a/show/661468548</td>\n",
       "    </tr>\n",
       "    <tr>\n",
       "      <th>2</th>\n",
       "      <td>Костанай</td>\n",
       "      <td>2-комнатная квартира, 60 м², 3/5 этаж помесячн...</td>\n",
       "      <td>150000</td>\n",
       "      <td>60.0</td>\n",
       "      <td>Хозяин недвижимости</td>\n",
       "      <td>+7 777 663940895</td>\n",
       "      <td>https://krisha.kz/a/show/663940895</td>\n",
       "    </tr>\n",
       "    <tr>\n",
       "      <th>3</th>\n",
       "      <td>Костанай</td>\n",
       "      <td>2-комнатная квартира, 53 м², 4/6 этаж помесячн...</td>\n",
       "      <td>80000</td>\n",
       "      <td>53.0</td>\n",
       "      <td>Хозяин недвижимости</td>\n",
       "      <td>+7 702 665996042</td>\n",
       "      <td>https://krisha.kz/a/show/665996042</td>\n",
       "    </tr>\n",
       "    <tr>\n",
       "      <th>4</th>\n",
       "      <td>Костанай</td>\n",
       "      <td>2-комнатная квартира, 56 м², 6/6 этаж помесячн...</td>\n",
       "      <td>80000</td>\n",
       "      <td>56.0</td>\n",
       "      <td>Хозяин недвижимости</td>\n",
       "      <td>+7 705 665995773</td>\n",
       "      <td>https://krisha.kz/a/show/665995773</td>\n",
       "    </tr>\n",
       "    <tr>\n",
       "      <th>...</th>\n",
       "      <td>...</td>\n",
       "      <td>...</td>\n",
       "      <td>...</td>\n",
       "      <td>...</td>\n",
       "      <td>...</td>\n",
       "      <td>...</td>\n",
       "      <td>...</td>\n",
       "    </tr>\n",
       "    <tr>\n",
       "      <th>95</th>\n",
       "      <td>Костанай</td>\n",
       "      <td>3-комнатная квартира, 90 м², 2/2 этаж помесячн...</td>\n",
       "      <td>150000</td>\n",
       "      <td>90.0</td>\n",
       "      <td>Хозяин недвижимости</td>\n",
       "      <td>+7 777 51472154</td>\n",
       "      <td>https://krisha.kz/a/show/51472154</td>\n",
       "    </tr>\n",
       "    <tr>\n",
       "      <th>96</th>\n",
       "      <td>Костанай</td>\n",
       "      <td>1-комнатная квартира, 34 м², 5/6 этаж помесячн...</td>\n",
       "      <td>80000</td>\n",
       "      <td>34.0</td>\n",
       "      <td>Хозяин недвижимости</td>\n",
       "      <td>+7 775 665738755</td>\n",
       "      <td>https://krisha.kz/a/show/665738755</td>\n",
       "    </tr>\n",
       "    <tr>\n",
       "      <th>97</th>\n",
       "      <td>Костанай</td>\n",
       "      <td>1-комнатная квартира, 35 м², 3/5 этаж помесячн...</td>\n",
       "      <td>65000</td>\n",
       "      <td>35.0</td>\n",
       "      <td>Хозяин недвижимости</td>\n",
       "      <td>+7 702 661077990</td>\n",
       "      <td>https://krisha.kz/a/show/661077990</td>\n",
       "    </tr>\n",
       "    <tr>\n",
       "      <th>98</th>\n",
       "      <td>Костанай</td>\n",
       "      <td>1-комнатная квартира, 35 м², 3/5 этаж помесячн...</td>\n",
       "      <td>70000</td>\n",
       "      <td>35.0</td>\n",
       "      <td>Хозяин недвижимости</td>\n",
       "      <td>+7 777 665907646</td>\n",
       "      <td>https://krisha.kz/a/show/665907646</td>\n",
       "    </tr>\n",
       "    <tr>\n",
       "      <th>99</th>\n",
       "      <td>Костанай</td>\n",
       "      <td>2-комнатная квартира, 53.7 м², 3/5 этаж помеся...</td>\n",
       "      <td>100000</td>\n",
       "      <td>53.7</td>\n",
       "      <td>Хозяин недвижимости</td>\n",
       "      <td>+7 705 665732846</td>\n",
       "      <td>https://krisha.kz/a/show/665732846</td>\n",
       "    </tr>\n",
       "  </tbody>\n",
       "</table>\n",
       "<p>100 rows × 7 columns</p>\n",
       "</div>"
      ],
      "text/plain": [
       "        City                                        Description   Price  Area  \\\n",
       "0   Костанай  4-комнатная квартира, 72 м², 2/6 этаж помесячн...  100000  72.0   \n",
       "1   Костанай  3-комнатная квартира, 72 м², 7/9 этаж помесячн...  115000  72.0   \n",
       "2   Костанай  2-комнатная квартира, 60 м², 3/5 этаж помесячн...  150000  60.0   \n",
       "3   Костанай  2-комнатная квартира, 53 м², 4/6 этаж помесячн...   80000  53.0   \n",
       "4   Костанай  2-комнатная квартира, 56 м², 6/6 этаж помесячн...   80000  56.0   \n",
       "..       ...                                                ...     ...   ...   \n",
       "95  Костанай  3-комнатная квартира, 90 м², 2/2 этаж помесячн...  150000  90.0   \n",
       "96  Костанай  1-комнатная квартира, 34 м², 5/6 этаж помесячн...   80000  34.0   \n",
       "97  Костанай  1-комнатная квартира, 35 м², 3/5 этаж помесячн...   65000  35.0   \n",
       "98  Костанай  1-комнатная квартира, 35 м², 3/5 этаж помесячн...   70000  35.0   \n",
       "99  Костанай  2-комнатная квартира, 53.7 м², 3/5 этаж помеся...  100000  53.7   \n",
       "\n",
       "                 Author             Phone                                Link  \n",
       "0   Хозяин недвижимости  +7 708 665809750  https://krisha.kz/a/show/665809750  \n",
       "1   Хозяин недвижимости  +7 777 661468548  https://krisha.kz/a/show/661468548  \n",
       "2   Хозяин недвижимости  +7 777 663940895  https://krisha.kz/a/show/663940895  \n",
       "3   Хозяин недвижимости  +7 702 665996042  https://krisha.kz/a/show/665996042  \n",
       "4   Хозяин недвижимости  +7 705 665995773  https://krisha.kz/a/show/665995773  \n",
       "..                  ...               ...                                 ...  \n",
       "95  Хозяин недвижимости   +7 777 51472154   https://krisha.kz/a/show/51472154  \n",
       "96  Хозяин недвижимости  +7 775 665738755  https://krisha.kz/a/show/665738755  \n",
       "97  Хозяин недвижимости  +7 702 661077990  https://krisha.kz/a/show/661077990  \n",
       "98  Хозяин недвижимости  +7 777 665907646  https://krisha.kz/a/show/665907646  \n",
       "99  Хозяин недвижимости  +7 705 665732846  https://krisha.kz/a/show/665732846  \n",
       "\n",
       "[100 rows x 7 columns]"
      ]
     },
     "execution_count": 7,
     "metadata": {},
     "output_type": "execute_result"
    }
   ],
   "source": [
    "# Creating and saving data in form of dataset\n",
    "import pandas as pd\n",
    "#Creating the dataframe\n",
    "df = pd.DataFrame()\n",
    "# Creating the columns and assigning the data from lists\n",
    "df['City'] = city\n",
    "df['Description'] = house_general\n",
    "df['Price'] =  price\n",
    "df['Area'] = area\n",
    "df['Author'] = owner\n",
    "df['Phone'] = phone\n",
    "df['Link'] = urls\n",
    "#The way to save data from lists into excel file\n",
    "df.to_excel('hm5.xlsx',index = False)\n",
    "# Reading the file itself\n",
    "df = pd.read_excel('hm5.xlsx')\n",
    "df"
   ]
  },
  {
   "cell_type": "markdown",
   "metadata": {},
   "source": [
    "### Data cleaning"
   ]
  },
  {
   "cell_type": "code",
   "execution_count": 8,
   "metadata": {},
   "outputs": [],
   "source": [
    "# Dropping unuseful columns\n",
    "df.drop(['City','Author','Link'],inplace = True,axis = 1)"
   ]
  },
  {
   "cell_type": "code",
   "execution_count": 9,
   "metadata": {},
   "outputs": [],
   "source": [
    "# Getting the room number from description column\n",
    "df['Room_num'] = df['Description'].str.split('-',n=1,expand = True)[0]\n",
    "# Getting the floor number from description column\n",
    "df['Floor_Num'] = df['Description'].str.split('/', n = 1,expand = True)[0].str.split('м²,', n = 1, expand = True)[1]\n",
    "# Dropping Description column after getting necessary information\n",
    "df.drop(['Description'],axis = 1,inplace = True)"
   ]
  },
  {
   "cell_type": "markdown",
   "metadata": {},
   "source": [
    "### Data analysis "
   ]
  },
  {
   "cell_type": "code",
   "execution_count": 10,
   "metadata": {},
   "outputs": [
    {
     "name": "stdout",
     "output_type": "stream",
     "text": [
      "The number of authors with Beeline operator: 56\n",
      "The number of authors with Altel operator: 7\n",
      "The number of authors with Kcell operator: 23\n",
      "The number of authors with Tele2 operator: 14\n"
     ]
    }
   ],
   "source": [
    "# Counting the mobile operators \n",
    "count_Beel = 0\n",
    "count_Altel = 0\n",
    "count_Tele2 = 0\n",
    "count_Kcell = 0\n",
    "beel = [705,777,776,771]\n",
    "altel = [700,708]\n",
    "tele2 = [747,707]\n",
    "kcell = [701,702,775,778]\n",
    "for x in df.Phone:\n",
    "    separator = int(x.split(' ')[1])\n",
    "    if separator in beel:\n",
    "        count_Beel+=1\n",
    "    elif separator in altel:\n",
    "        count_Altel+=1\n",
    "    elif separator in kcell:\n",
    "        count_Kcell+=1\n",
    "    elif separator in tele2:\n",
    "        count_Tele2+=1\n",
    "print('The number of authors with Beeline operator: '+ str(count_Beel))\n",
    "print('The number of authors with Altel operator: ' + str(count_Altel))\n",
    "print('The number of authors with Kcell operator: '+ str(count_Kcell))\n",
    "print('The number of authors with Tele2 operator: ' + str(count_Tele2))"
   ]
  },
  {
   "cell_type": "code",
   "execution_count": 11,
   "metadata": {},
   "outputs": [
    {
     "data": {
      "text/html": [
       "<div>\n",
       "<style scoped>\n",
       "    .dataframe tbody tr th:only-of-type {\n",
       "        vertical-align: middle;\n",
       "    }\n",
       "\n",
       "    .dataframe tbody tr th {\n",
       "        vertical-align: top;\n",
       "    }\n",
       "\n",
       "    .dataframe thead th {\n",
       "        text-align: right;\n",
       "    }\n",
       "</style>\n",
       "<table border=\"1\" class=\"dataframe\">\n",
       "  <thead>\n",
       "    <tr style=\"text-align: right;\">\n",
       "      <th></th>\n",
       "      <th>Price</th>\n",
       "      <th>Area</th>\n",
       "      <th>Room_num</th>\n",
       "      <th>Floor_Num</th>\n",
       "    </tr>\n",
       "  </thead>\n",
       "  <tbody>\n",
       "    <tr>\n",
       "      <th>count</th>\n",
       "      <td>100.000000</td>\n",
       "      <td>100.000000</td>\n",
       "      <td>100.000000</td>\n",
       "      <td>100.000000</td>\n",
       "    </tr>\n",
       "    <tr>\n",
       "      <th>mean</th>\n",
       "      <td>92375.000000</td>\n",
       "      <td>48.637000</td>\n",
       "      <td>1.720000</td>\n",
       "      <td>3.360000</td>\n",
       "    </tr>\n",
       "    <tr>\n",
       "      <th>std</th>\n",
       "      <td>36113.343948</td>\n",
       "      <td>20.948121</td>\n",
       "      <td>0.779536</td>\n",
       "      <td>1.982346</td>\n",
       "    </tr>\n",
       "    <tr>\n",
       "      <th>min</th>\n",
       "      <td>36500.000000</td>\n",
       "      <td>11.000000</td>\n",
       "      <td>1.000000</td>\n",
       "      <td>0.000000</td>\n",
       "    </tr>\n",
       "    <tr>\n",
       "      <th>25%</th>\n",
       "      <td>70000.000000</td>\n",
       "      <td>34.000000</td>\n",
       "      <td>1.000000</td>\n",
       "      <td>2.000000</td>\n",
       "    </tr>\n",
       "    <tr>\n",
       "      <th>50%</th>\n",
       "      <td>80000.000000</td>\n",
       "      <td>47.500000</td>\n",
       "      <td>2.000000</td>\n",
       "      <td>3.000000</td>\n",
       "    </tr>\n",
       "    <tr>\n",
       "      <th>75%</th>\n",
       "      <td>100000.000000</td>\n",
       "      <td>57.250000</td>\n",
       "      <td>2.000000</td>\n",
       "      <td>5.000000</td>\n",
       "    </tr>\n",
       "    <tr>\n",
       "      <th>max</th>\n",
       "      <td>270000.000000</td>\n",
       "      <td>180.000000</td>\n",
       "      <td>4.000000</td>\n",
       "      <td>10.000000</td>\n",
       "    </tr>\n",
       "  </tbody>\n",
       "</table>\n",
       "</div>"
      ],
      "text/plain": [
       "               Price        Area    Room_num   Floor_Num\n",
       "count     100.000000  100.000000  100.000000  100.000000\n",
       "mean    92375.000000   48.637000    1.720000    3.360000\n",
       "std     36113.343948   20.948121    0.779536    1.982346\n",
       "min     36500.000000   11.000000    1.000000    0.000000\n",
       "25%     70000.000000   34.000000    1.000000    2.000000\n",
       "50%     80000.000000   47.500000    2.000000    3.000000\n",
       "75%    100000.000000   57.250000    2.000000    5.000000\n",
       "max    270000.000000  180.000000    4.000000   10.000000"
      ]
     },
     "execution_count": 11,
     "metadata": {},
     "output_type": "execute_result"
    }
   ],
   "source": [
    "# Changing the datatypes of columns\n",
    "df['Room_num'] = df['Room_num'].astype(int)\n",
    "df['Floor_Num'] = df['Floor_Num'].str.split(' этаж', n = 1,expand = True)[0].str.strip()\n",
    "# Filling the NaN values with 0 if any\n",
    "df['Floor_Num'] = df['Floor_Num'].fillna(0)\n",
    "df['Floor_Num'] = df['Floor_Num'].astype(int)\n",
    "# Showing descriptive statistics\n",
    "df.describe()"
   ]
  },
  {
   "cell_type": "code",
   "execution_count": 12,
   "metadata": {},
   "outputs": [
    {
     "data": {
      "text/html": [
       "<div>\n",
       "<style scoped>\n",
       "    .dataframe tbody tr th:only-of-type {\n",
       "        vertical-align: middle;\n",
       "    }\n",
       "\n",
       "    .dataframe tbody tr th {\n",
       "        vertical-align: top;\n",
       "    }\n",
       "\n",
       "    .dataframe thead th {\n",
       "        text-align: right;\n",
       "    }\n",
       "</style>\n",
       "<table border=\"1\" class=\"dataframe\">\n",
       "  <thead>\n",
       "    <tr style=\"text-align: right;\">\n",
       "      <th></th>\n",
       "      <th>Price</th>\n",
       "      <th>Area</th>\n",
       "      <th>Room_num</th>\n",
       "      <th>Floor_Num</th>\n",
       "    </tr>\n",
       "  </thead>\n",
       "  <tbody>\n",
       "    <tr>\n",
       "      <th>Price</th>\n",
       "      <td>1.000000</td>\n",
       "      <td>0.576797</td>\n",
       "      <td>0.484389</td>\n",
       "      <td>0.050372</td>\n",
       "    </tr>\n",
       "    <tr>\n",
       "      <th>Area</th>\n",
       "      <td>0.576797</td>\n",
       "      <td>1.000000</td>\n",
       "      <td>0.792710</td>\n",
       "      <td>0.186219</td>\n",
       "    </tr>\n",
       "    <tr>\n",
       "      <th>Room_num</th>\n",
       "      <td>0.484389</td>\n",
       "      <td>0.792710</td>\n",
       "      <td>1.000000</td>\n",
       "      <td>0.196620</td>\n",
       "    </tr>\n",
       "    <tr>\n",
       "      <th>Floor_Num</th>\n",
       "      <td>0.050372</td>\n",
       "      <td>0.186219</td>\n",
       "      <td>0.196620</td>\n",
       "      <td>1.000000</td>\n",
       "    </tr>\n",
       "  </tbody>\n",
       "</table>\n",
       "</div>"
      ],
      "text/plain": [
       "              Price      Area  Room_num  Floor_Num\n",
       "Price      1.000000  0.576797  0.484389   0.050372\n",
       "Area       0.576797  1.000000  0.792710   0.186219\n",
       "Room_num   0.484389  0.792710  1.000000   0.196620\n",
       "Floor_Num  0.050372  0.186219  0.196620   1.000000"
      ]
     },
     "execution_count": 12,
     "metadata": {},
     "output_type": "execute_result"
    }
   ],
   "source": [
    "# Importing libraries\n",
    "import seaborn as sns\n",
    "import matplotlib.pyplot as plt\n",
    "import numpy as np\n",
    "# Showing the correlation between variables\n",
    "df.corr()"
   ]
  },
  {
   "cell_type": "code",
   "execution_count": 22,
   "metadata": {},
   "outputs": [
    {
     "name": "stderr",
     "output_type": "stream",
     "text": [
      "C:\\Users\\Admin\\anaconda3\\lib\\site-packages\\seaborn\\distributions.py:2551: FutureWarning: `distplot` is a deprecated function and will be removed in a future version. Please adapt your code to use either `displot` (a figure-level function with similar flexibility) or `histplot` (an axes-level function for histograms).\n",
      "  warnings.warn(msg, FutureWarning)\n"
     ]
    },
    {
     "data": {
      "image/png": "[encoded data removed]",
      "text/plain": [
       "<Figure size 576x576 with 1 Axes>"
      ]
     },
     "metadata": {
      "needs_background": "light"
     },
     "output_type": "display_data"
    }
   ],
   "source": [
    "# The density of price for rent in Kostanay city\n",
    "fig, ax = plt.subplots( figsize = (8,8))\n",
    "sns.distplot(x = df['Price'])\n",
    "plt.title('The density of price for rent in Kostanay')\n",
    "plt.xlabel('Price')\n",
    "plt.rcParams['font.size'] = 15\n",
    "plt.show()"
   ]
  },
  {
   "cell_type": "markdown",
   "metadata": {},
   "source": [
    "We can see that price for rent in Kostanay is positively distributed"
   ]
  },
  {
   "cell_type": "markdown",
   "metadata": {},
   "source": [
    "<b>Conclusion:</b> <br>\n",
    "There are 100 houses for rent in Kostanay in that dataset.<br>\n",
    "The average price for rent is 92375 tenge. <br>\n",
    "The average amount of area is 48.63 m^2.<br>\n",
    "There is a positive relationship between area and price. <br>\n",
    "The most of the post authors has a Beeline mobile operator. <br>\n",
    "Finally, price for rent in Kostanay is positively distributed. <br>"
   ]
  },
  {
   "cell_type": "markdown",
   "metadata": {},
   "source": [
    "### Prediction models ( Linear Regression)"
   ]
  },
  {
   "cell_type": "markdown",
   "metadata": {},
   "source": [
    "### Doing initial prediction without preprocessing"
   ]
  },
  {
   "cell_type": "code",
   "execution_count": 20,
   "metadata": {},
   "outputs": [
    {
     "name": "stdout",
     "output_type": "stream",
     "text": [
      "[ 2827.52859482 17528.61250183 -1313.06654187]\n",
      "R2 square without preprocessing 0.6687795397355578\n"
     ]
    }
   ],
   "source": [
    "# Making linear regression prediction for the rent price based on room, floor, year and area\n",
    "from sklearn.model_selection import train_test_split\n",
    "X = df[['Room_num','Area','Floor_Num']]\n",
    "y = df['Price']\n",
    "X_train, X_test, y_train, y_test = train_test_split(X, y, test_size=0.2,random_state = 0)\n",
    "# Creating linear regression\n",
    "from sklearn.linear_model import LinearRegression\n",
    "pred = LinearRegression()\n",
    "# Training our data\n",
    "pred.fit(X_train, y_train)\n",
    "# Watching how our independent variables will affect on the price value\n",
    "print(pred.coef_)\n",
    "# Making predictions\n",
    "y_pred = pred.predict(X_test)\n",
    "# Watching the results\n",
    "df_without = pd.DataFrame({'Now': y_test, 'Without': y_pred})\n",
    "from sklearn import metrics\n",
    "y1_score = metrics.r2_score(y_test,y_pred)\n",
    "print('R2 square without preprocessing',y1_score)"
   ]
  },
  {
   "cell_type": "markdown",
   "metadata": {},
   "source": [
    "### Data preprocessing (Standardization) and prediction"
   ]
  },
  {
   "cell_type": "code",
   "execution_count": 21,
   "metadata": {},
   "outputs": [
    {
     "name": "stdout",
     "output_type": "stream",
     "text": [
      "[ 2799.7650177  18360.23245785 -1345.40306153]\n",
      "R2 square without preprocessing 0.7369322202631241\n"
     ]
    }
   ],
   "source": [
    "from sklearn.preprocessing import StandardScaler\n",
    "df[['Room_num','Floor_Num','Area']] = StandardScaler().fit_transform(df[['Room_num','Floor_Num','Area']])\n",
    "X = df[['Room_num','Area','Floor_Num']]\n",
    "y = df['Price']\n",
    "X_train, X_test, y_train, y_test1 = train_test_split(X, y, test_size=0.2,random_state = 0)\n",
    "# Creating linear regression\n",
    "pred = LinearRegression()\n",
    "# Training our data\n",
    "X_train = StandardScaler().fit_transform(X_train)\n",
    "X_test = StandardScaler().fit_transform(X_test)\n",
    "pred.fit(X_train, y_train)\n",
    "# Watching how our independent variables will affect on the price value\n",
    "print(pred.coef_)\n",
    "# Making predictions\n",
    "y_pred = pred.predict(X_test)\n",
    "y2_score = metrics.r2_score(y_test1,y_pred)\n",
    "print('R2 square without preprocessing',y2_score)"
   ]
  },
  {
   "cell_type": "markdown",
   "metadata": {},
   "source": [
    "<b> Overall conclusion:</b><br>\n",
    "There were lots of analysis done. Before getting started there were data cleaning process. By given work, we can conclude model that have preprocessing can give us better results for the linear regression, as it is bigger than without preprocessing."
   ]
  },
  {
   "cell_type": "code",
   "execution_count": null,
   "metadata": {},
   "outputs": [],
   "source": []
  }
 ],
 "metadata": {
  "kernelspec": {
   "display_name": "Python 3",
   "language": "python",
   "name": "python3"
  },
  "language_info": {
   "codemirror_mode": {
    "name": "ipython",
    "version": 3
   },
   "file_extension": ".py",
   "mimetype": "text/x-python",
   "name": "python",
   "nbconvert_exporter": "python",
   "pygments_lexer": "ipython3",
   "version": "3.8.5"
  }
 },
 "nbformat": 4,
 "nbformat_minor": 4
}
